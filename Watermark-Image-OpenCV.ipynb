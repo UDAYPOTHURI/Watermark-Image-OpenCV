{
 "cells": [
  {
   "cell_type": "code",
   "execution_count": 1,
   "metadata": {},
   "outputs": [],
   "source": [
    "import cv2 # This imports the OpenCV library, which is used for image and video processing.\n",
    "import urllib # This imports the urllib library, which is used for working with URLs.\n",
    "import numpy as np # This imports the NumPy library, which is used for working with arrays and matrices."
   ]
  },
  {
   "cell_type": "code",
   "execution_count": 2,
   "metadata": {},
   "outputs": [],
   "source": [
    "url=urllib.request.urlopen(\"data:image/jpeg;base64,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\") \n",
    "# This opens a URL and returns a file-like object.\n",
    "arr=np.asarray(bytearray(url.read()),dtype=np.uint8) # This reads the data from the URL and converts it into a NumPy array of unsigned 8-bit integers.\n",
    "img=cv2.imdecode(arr,-1) # This decodes the image data from the NumPy array.\n",
    "cv2.imshow(\"img\", img) # This displays the image in a window with the title \"img\".\n",
    "cv2.waitKey(0) # This waits for a key event indefinitely. It returns the code of the pressed key or -1 if no key was pressed.\n",
    "cv2.destroyAllWindows() # This destroys all the windows created by OpenCV.\n"
   ]
  },
  {
   "cell_type": "code",
   "execution_count": 3,
   "metadata": {},
   "outputs": [],
   "source": [
    "img = cv2.resize(img, (300, 300)) # This resizes the image to have a width of 300 pixels and a height of 300 pixels.\n",
    "cv2.imshow(\"img\", img) # This displays the image in a window with the title \"img\".\n",
    "cv2.waitKey(0) # This waits for a key event indefinitely. It returns the code of the pressed key or -1 if no key was pressed.\n",
    "cv2.destroyAllWindows() # This destroys all the windows created by OpenCV."
   ]
  },
  {
   "cell_type": "code",
   "execution_count": 4,
   "metadata": {},
   "outputs": [],
   "source": [
    "blackimg=np.zeros((500,500,3),dtype=np.uint8) # This creates a black image with a height of 100 pixels and the same width and number of channels as the original image.\n",
    "cv2.imshow(\"img\",blackimg) # This displays the black image in a window with the title \"imgblack\".\n",
    "cv2.waitKey(0) # This waits for a key event indefinitely. It returns the code of the pressed key or -1 if no key was pressed.\n",
    "cv2.destroyAllWindows() # This destroys all the windows created by OpenCV."
   ]
  },
  {
   "cell_type": "code",
   "execution_count": 5,
   "metadata": {},
   "outputs": [
    {
     "name": "stdout",
     "output_type": "stream",
     "text": [
      "(500, 500, 3)\n"
     ]
    }
   ],
   "source": [
    "blackimgshape = blackimg.shape # This line gets the shape of the image stored in the variable 'blackimg' and stores it in the variable 'blackimgshape'.\n",
    "print(blackimgshape) # This line prints the shape of the image to the console."
   ]
  },
  {
   "cell_type": "code",
   "execution_count": 6,
   "metadata": {},
   "outputs": [],
   "source": [
    "watermark = input(\"Enter the watermark\") # This line prompts the user to enter a watermark and stores the input in the variable 'watermark'."
   ]
  },
  {
   "cell_type": "code",
   "execution_count": 7,
   "metadata": {},
   "outputs": [],
   "source": [
    "cv2.putText(blackimg, watermark, (int(blackimgshape[0]/5), int(blackimgshape[1]/2)), cv2.FONT_HERSHEY_SIMPLEX, 2, (255, 255, 255), 5)\n",
    "# This line adds a watermark to the image stored in the variable 'blackimg' using the text stored in the variable 'watermark'.\n",
    "cv2.imshow(\"img\", blackimg) # This line displays the image with the watermark added.\n",
    "cv2.waitKey(0) # This waits for a key event indefinitely. It returns the code of the pressed key or -1 if no key was pressed.\n",
    "cv2.destroyAllWindows() # This destroys all the windows created by OpenCV."
   ]
  },
  {
   "cell_type": "code",
   "execution_count": 8,
   "metadata": {},
   "outputs": [],
   "source": [
    "M = cv2.getRotationMatrix2D((int(blackimgshape[0]/2), int(blackimgshape[1]/2)), 45, 1) # Calculate a rotation matrix to rotate the image by 45 degrees around its center.\n",
    "blackimg = cv2.warpAffine(blackimg, M, blackimgshape[0:2]) # Apply the rotation to the image.\n",
    "cv2.imshow(\"img\", blackimg) # Display the rotated image.\n",
    "cv2.waitKey(0) # This waits for a key event indefinitely. It returns the code of the pressed key or -1 if no key was pressed.\n",
    "cv2.destroyAllWindows() # This destroys all the windows created by OpenCV."
   ]
  },
  {
   "cell_type": "code",
   "execution_count": 9,
   "metadata": {},
   "outputs": [],
   "source": [
    "blackimg = cv2.resize(blackimg, img.shape[0:2]) # Resize the image stored in 'blackimg' to the size of the image stored in 'img'.\n",
    "cv2.imshow(\"img\", blackimg) # Display the resized image.\n",
    "cv2.waitKey(0) # This waits for a key event indefinitely. It returns the code of the pressed key or -1 if no key was pressed.\n",
    "cv2.destroyAllWindows() # This destroys all the windows created by OpenCV."
   ]
  },
  {
   "cell_type": "code",
   "execution_count": 10,
   "metadata": {},
   "outputs": [],
   "source": [
    "combimg = cv2.addWeighted(img, 0.9, blackimg, 0.1, 0) # Blend the two images stored in 'img' and 'blackimg' using weights of 0.9 and 0.1, respectively.\n",
    "cv2.imshow(\"combimg\", combimg) # Display the resulting image.\n",
    "cv2.waitKey(0) # This waits for a key event indefinitely. It returns the code of the pressed key or -1 if no key was pressed.\n",
    "cv2.destroyAllWindows() # This destroys all the windows created by OpenCV."
   ]
  },
  {
   "cell_type": "code",
   "execution_count": 11,
   "metadata": {},
   "outputs": [
    {
     "data": {
      "text/plain": [
       "True"
      ]
     },
     "execution_count": 11,
     "metadata": {},
     "output_type": "execute_result"
    }
   ],
   "source": [
    "cv2.imwrite(\"watermarkedimg.jpg\", combimg) # This line saves the image stored in the variable 'combimg' to a file named 'watermarkedimg.jpg'."
   ]
  }
 ],
 "metadata": {
  "kernelspec": {
   "display_name": "Python 3",
   "language": "python",
   "name": "python3"
  },
  "language_info": {
   "codemirror_mode": {
    "name": "ipython",
    "version": 3
   },
   "file_extension": ".py",
   "mimetype": "text/x-python",
   "name": "python",
   "nbconvert_exporter": "python",
   "pygments_lexer": "ipython3",
   "version": "3.11.0"
  },
  "orig_nbformat": 4
 },
 "nbformat": 4,
 "nbformat_minor": 2
}
